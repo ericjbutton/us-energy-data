{
 "cells": [
  {
   "cell_type": "markdown",
   "id": "57e2a50e",
   "metadata": {},
   "source": [
    "# Overview\n",
    "\n",
    "\n",
    "Data Source:\n",
    "\n",
    "1. Energy Data: https://www.kaggle.com/datasets/lislejoem/us_energy_census_gdp_10-14?resource=download"
   ]
  },
  {
   "cell_type": "code",
   "execution_count": null,
   "id": "42e0cc72",
   "metadata": {},
   "outputs": [],
   "source": [
    "import pandas as pd\n",
    "from sqlalchemy import create_engine, inspect"
   ]
  },
  {
   "cell_type": "markdown",
   "id": "6024ebfe",
   "metadata": {},
   "source": [
    "# Extract"
   ]
  },
  {
   "cell_type": "markdown",
   "id": "5a168a4d",
   "metadata": {},
   "source": [
    "## Store CSV into DataFrame"
   ]
  },
  {
   "cell_type": "code",
   "execution_count": null,
   "id": "78e5f72a",
   "metadata": {},
   "outputs": [],
   "source": [
    "#Load in energy data\n",
    "csv_file_1 = \"resources/energy_census_and_economic_data_US_2010-2014.csv\"\n",
    "energy_df = pd.read_csv(csv_file_1)\n",
    "energy_df.head()"
   ]
  },
  {
   "cell_type": "code",
   "execution_count": null,
   "id": "f38df320",
   "metadata": {},
   "outputs": [],
   "source": [
    "# energy_columns = energy_df.columns\n",
    "\n",
    "# for column in energy_columns:\n",
    "#     print(column)"
   ]
  },
  {
   "cell_type": "code",
   "execution_count": null,
   "id": "43378f20",
   "metadata": {
    "scrolled": true
   },
   "outputs": [],
   "source": [
    "# # Calculate yearly GDP rates and adding the columns into the energy_df dataframe.\n",
    "# # yearly GDP change. Calculated by dividing the second year’s GDP by the first year’s GDP.\n",
    "# gdp_2010_2011 = []\n",
    "# gdp_2011_2012 = []\n",
    "# gdp_2012_2013 = []\n",
    "# gdp_2013_2014 = []\n",
    "\n",
    "# i = 0\n",
    "# while i < len(energy_df):\n",
    "#     if True:\n",
    "#         gdp_2010_2011.append(energy_df[\"GDP2011\"][i] / energy_df[\"GDP2010\"][i] * 100)\n",
    "#         gdp_2011_2012.append(energy_df[\"GDP2012\"][i] / energy_df[\"GDP2011\"][i] * 100)\n",
    "#         gdp_2012_2013.append(energy_df[\"GDP2013\"][i] / energy_df[\"GDP2012\"][i] * 100)\n",
    "#         gdp_2013_2014.append(energy_df[\"GDP2014\"][i] / energy_df[\"GDP2013\"][i] * 100)\n",
    "#     i += 1\n",
    "    \n",
    "# energy_df[\"GDP_2010_2011\"] = gdp_2010_2011\n",
    "# energy_df[\"GDP_2011_2012\"] = gdp_2011_2012\n",
    "# energy_df[\"GDP_2012_2013\"] = gdp_2012_2013\n",
    "# energy_df[\"GDP_2013_2014\"] = gdp_2013_2014\n",
    "    \n",
    "# gdp_df = energy_df[['StateCodes', 'State', 'GDP_2010_2011', 'GDP_2011_2012', 'GDP_2012_2013', 'GDP_2013_2014' ]]\n",
    "# gdp_df = gdp_df.rename(columns={'StateCodes':'statecodes', 'State':'state', 'GDP_2010_2011': 'gdp_2010_2011', 'GDP_2011_2012': 'gdp_2011_2012', 'GDP_2012_2013': 'gdp_2012_2013', 'GDP_2013_2014': 'gdp_2013_2014' }).copy()\n",
    "# gdp_df"
   ]
  },
  {
   "cell_type": "markdown",
   "id": "b59992d2",
   "metadata": {},
   "source": [
    "# Transform"
   ]
  },
  {
   "cell_type": "code",
   "execution_count": null,
   "id": "10a699bc",
   "metadata": {},
   "outputs": [],
   "source": [
    "#Cleaning Energy Consumption Data\n",
    "year = []\n",
    "state = []\n",
    "#Total energy consumption:\n",
    "energy_consumption = []\n",
    "#Sectors of energy consumption:\n",
    "biomass_consumption = []\n",
    "coal_consumption = []\n",
    "elec_consumption = []\n",
    "fossfuel_consumption = []\n",
    "natgas_consumption = []\n",
    "\n",
    "#GDP by year\n",
    "gdp = []\n",
    "\n",
    "year_starter = 2010\n",
    "year_counter = 0\n",
    "\n",
    "\n",
    "while True:\n",
    "    for index, row in energy_df.iterrows():\n",
    "        if (index == (len(energy_df)-1)):\n",
    "            year.append(year_starter + year_counter)\n",
    "            state.append(energy_df['State'][index])\n",
    "            energy_consumption.append(energy_df[f\"TotalC{year_starter + year_counter}\"][index])\n",
    "            biomass_consumption.append(energy_df[f\"BiomassC{year_starter + year_counter}\"][index])\n",
    "            print(f\"BiomassC{year_starter + year_counter}\")\n",
    "            coal_consumption.append(energy_df[f\"CoalC{year_starter + year_counter}\"][index])\n",
    "            elec_consumption.append(energy_df[f\"ElecC{year_starter + year_counter}\"][index])\n",
    "            fossfuel_consumption.append(energy_df[f\"FossFuelC{year_starter + year_counter}\"][index])\n",
    "            natgas_consumption.append(energy_df[f\"NatGasC{year_starter + year_counter}\"][index])\n",
    "            gdp.append(energy_df[f\"GDP{year_starter + year_counter}\"][index])\n",
    "            year_counter += 1\n",
    "            continue\n",
    "\n",
    "        else:\n",
    "            year.append(year_starter + year_counter)\n",
    "            state.append(energy_df['State'][index])\n",
    "            energy_consumption.append(energy_df[f\"TotalC{year_starter + year_counter}\"][index])\n",
    "            biomass_consumption.append(energy_df[f\"BiomassC{year_starter + year_counter}\"][index])\n",
    "            coal_consumption.append(energy_df[f\"CoalC{year_starter + year_counter}\"][index])\n",
    "            elec_consumption.append(energy_df[f\"ElecC{year_starter + year_counter}\"][index])\n",
    "            fossfuel_consumption.append(energy_df[f\"FossFuelC{year_starter + year_counter}\"][index])\n",
    "            natgas_consumption.append(energy_df[f\"NatGasC{year_starter + year_counter}\"][index])\n",
    "            gdp.append(energy_df[f\"GDP{year_starter + year_counter}\"][index])\n",
    "    \n",
    "    if (year_starter + year_counter == 2015):\n",
    "        break"
   ]
  },
  {
   "cell_type": "code",
   "execution_count": null,
   "id": "52034005",
   "metadata": {},
   "outputs": [],
   "source": [
    "energy_cleaned_df = pd.DataFrame({\n",
    "#     'year_state': year_state,\n",
    "    'year': year,\n",
    "    'state': state,\n",
    "    'total_energy': energy_consumption,\n",
    "    'gdp': gdp,\n",
    "    'biomass_consumption': biomass_consumption,\n",
    "    'coal_consumption': coal_consumption,\n",
    "    'electricity_consumption': elec_consumption,\n",
    "    'fossil_fuel_consumption': fossfuel_consumption,\n",
    "    'natural_gas_consumption': natgas_consumption\n",
    "})\n",
    "\n",
    "energy_cleaned_df"
   ]
  },
  {
   "cell_type": "code",
   "execution_count": null,
   "id": "f8f2db5f",
   "metadata": {},
   "outputs": [],
   "source": [
    "energy_cleaned_df.columns"
   ]
  },
  {
   "cell_type": "markdown",
   "id": "0437f9af",
   "metadata": {},
   "source": [
    "## Create database connection"
   ]
  },
  {
   "cell_type": "code",
   "execution_count": null,
   "id": "dd66d275",
   "metadata": {},
   "outputs": [],
   "source": [
    "protocol = 'postgresql'\n",
    "username = 'postgres'\n",
    "password = 'bootcamp'\n",
    "host = 'localhost'\n",
    "port = 5432\n",
    "database_name = 'energy_db'\n",
    "rds_connection_string = f'{protocol}://{username}:{password}@{host}:{port}/{database_name}'\n",
    "engine = create_engine(rds_connection_string)"
   ]
  },
  {
   "cell_type": "code",
   "execution_count": null,
   "id": "74340037",
   "metadata": {},
   "outputs": [],
   "source": [
    "# Confirm tables\n",
    "inspector = inspect(engine)\n",
    "inspector.get_table_names()"
   ]
  },
  {
   "cell_type": "markdown",
   "id": "1141a3c9",
   "metadata": {},
   "source": [
    "## Load DataFrames into database"
   ]
  },
  {
   "cell_type": "code",
   "execution_count": null,
   "id": "e587dec0",
   "metadata": {},
   "outputs": [],
   "source": [
    "energy_cleaned_df.to_sql(name='energy_consumption', con=engine, if_exists='append', index=False)"
   ]
  },
  {
   "cell_type": "code",
   "execution_count": null,
   "id": "fdbcd5ee",
   "metadata": {},
   "outputs": [],
   "source": [
    "# cleaned_min_wage_data_df.to_sql(name='minimum_wage', con=engine, if_exists='append', index=False)"
   ]
  },
  {
   "cell_type": "markdown",
   "id": "c6e051d8",
   "metadata": {},
   "source": [
    "## Confirm data has been added by querying the DB table"
   ]
  },
  {
   "cell_type": "code",
   "execution_count": null,
   "id": "7ae8619a",
   "metadata": {},
   "outputs": [],
   "source": [
    "pd.read_sql_query('select * from energy_consumption', con=engine).head()"
   ]
  },
  {
   "cell_type": "code",
   "execution_count": null,
   "id": "f3fa0e32",
   "metadata": {},
   "outputs": [],
   "source": [
    "# Export the DataFrames to CSV\n",
    "\n",
    "energy_cleaned_df.to_csv(\"energy_cleaned_df.csv\", index=True)"
   ]
  },
  {
   "cell_type": "code",
   "execution_count": null,
   "id": "f6be5419",
   "metadata": {},
   "outputs": [],
   "source": []
  }
 ],
 "metadata": {
  "kernelspec": {
   "display_name": "Python 3 (ipykernel)",
   "language": "python",
   "name": "python3"
  },
  "language_info": {
   "codemirror_mode": {
    "name": "ipython",
    "version": 3
   },
   "file_extension": ".py",
   "mimetype": "text/x-python",
   "name": "python",
   "nbconvert_exporter": "python",
   "pygments_lexer": "ipython3",
   "version": "3.8.13"
  }
 },
 "nbformat": 4,
 "nbformat_minor": 5
}
