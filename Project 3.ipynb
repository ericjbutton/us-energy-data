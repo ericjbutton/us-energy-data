{
 "cells": [
  {
   "cell_type": "markdown",
   "id": "57e2a50e",
   "metadata": {},
   "source": [
    "# Overview\n",
    "\n",
    "\n",
    "Data Source:\n",
    "\n",
    "1. Energy Data: https://www.kaggle.com/datasets/lislejoem/us_energy_census_gdp_10-14?resource=download"
   ]
  },
  {
   "cell_type": "code",
   "execution_count": null,
   "id": "42e0cc72",
   "metadata": {},
   "outputs": [],
   "source": [
    "import pandas as pd\n",
    "from sqlalchemy import create_engine, inspect\n",
    "from bs4 import BeautifulSoup\n",
    "import requests"
   ]
  },
  {
   "cell_type": "markdown",
   "id": "6024ebfe",
   "metadata": {},
   "source": [
    "# Extract"
   ]
  },
  {
   "cell_type": "markdown",
   "id": "5a168a4d",
   "metadata": {},
   "source": [
    "## Store CSV into DataFrame"
   ]
  },
  {
   "cell_type": "code",
   "execution_count": null,
   "id": "78e5f72a",
   "metadata": {},
   "outputs": [],
   "source": [
    "#Load in energy data\n",
    "csv_file_1 = \"resources/energy_census_and_economic_data_US_2010-2014.csv\"\n",
    "energy_df = pd.read_csv(csv_file_1)\n",
    "energy_df.head()"
   ]
  },
  {
   "cell_type": "markdown",
   "id": "b59992d2",
   "metadata": {},
   "source": [
    "# Transform"
   ]
  },
  {
   "cell_type": "code",
   "execution_count": null,
   "id": "d3be9517",
   "metadata": {},
   "outputs": [],
   "source": [
    "#Cleaning Energy Consumption Data\n",
    "year = []\n",
    "state = []\n",
    "energy_consumption = []\n",
    "gdp = []\n",
    "#Sectors of energy consumption:\n",
    "biomass_consumption = []\n",
    "coal_consumption = []\n",
    "elec_consumption = []\n",
    "fossfuel_consumption = []\n",
    "natgas_consumption = []\n",
    "\n",
    "for index, row in energy_df.iterrows():\n",
    "    year.append('2010')\n",
    "    state.append(energy_df['State'][index])\n",
    "    energy_consumption.append(energy_df['TotalC2010'][index])\n",
    "    gdp.append(energy_df['GDP2010'][index])\n",
    "    biomass_consumption.append(energy_df['BiomassC2010'][index])\n",
    "    coal_consumption.append(energy_df['CoalC2010'][index])\n",
    "    elec_consumption.append(energy_df['ElecC2010'][index])\n",
    "    fossfuel_consumption.append(energy_df['FossFuelC2010'][index])\n",
    "    natgas_consumption.append(energy_df['NatGasC2010'][index])\n",
    "    \n",
    "for index, row in energy_df.iterrows():\n",
    "    year.append('2011')\n",
    "    state.append(energy_df['State'][index])\n",
    "    energy_consumption.append(energy_df['TotalC2011'][index])\n",
    "    gdp.append(energy_df['GDP2011'][index])\n",
    "    biomass_consumption.append(energy_df['BiomassC2011'][index])\n",
    "    coal_consumption.append(energy_df['CoalC2011'][index])\n",
    "    elec_consumption.append(energy_df['ElecC2011'][index])\n",
    "    fossfuel_consumption.append(energy_df['FossFuelC2011'][index])\n",
    "    natgas_consumption.append(energy_df['NatGasC2011'][index])\n",
    "    \n",
    "for index, row in energy_df.iterrows():\n",
    "    year.append('2012')\n",
    "    state.append(energy_df['State'][index])\n",
    "    energy_consumption.append(energy_df['TotalC2012'][index])\n",
    "    gdp.append(energy_df['GDP2012'][index])\n",
    "    biomass_consumption.append(energy_df['BiomassC2012'][index])\n",
    "    coal_consumption.append(energy_df['CoalC2012'][index])\n",
    "    elec_consumption.append(energy_df['ElecC2012'][index])\n",
    "    fossfuel_consumption.append(energy_df['FossFuelC2012'][index])\n",
    "    natgas_consumption.append(energy_df['NatGasC2012'][index])\n",
    "    \n",
    "for index, row in energy_df.iterrows():\n",
    "    year.append('2013')\n",
    "    state.append(energy_df['State'][index])\n",
    "    energy_consumption.append(energy_df['TotalC2013'][index])\n",
    "    gdp.append(energy_df['GDP2013'][index])\n",
    "    biomass_consumption.append(energy_df['BiomassC2013'][index])\n",
    "    coal_consumption.append(energy_df['CoalC2013'][index])\n",
    "    elec_consumption.append(energy_df['ElecC2013'][index])\n",
    "    fossfuel_consumption.append(energy_df['FossFuelC2013'][index])\n",
    "    natgas_consumption.append(energy_df['NatGasC2013'][index])\n",
    "    \n",
    "for index, row in energy_df.iterrows():\n",
    "    year.append('2014')\n",
    "    state.append(energy_df['State'][index])\n",
    "    energy_consumption.append(energy_df['TotalC2014'][index])\n",
    "    gdp.append(energy_df['GDP2014'][index])\n",
    "    biomass_consumption.append(energy_df['BiomassC2014'][index])\n",
    "    coal_consumption.append(energy_df['CoalC2014'][index])\n",
    "    elec_consumption.append(energy_df['ElecC2014'][index])\n",
    "    fossfuel_consumption.append(energy_df['FossFuelC2014'][index])\n",
    "    natgas_consumption.append(energy_df['NatGasC2014'][index])"
   ]
  },
  {
   "cell_type": "code",
   "execution_count": null,
   "id": "52034005",
   "metadata": {},
   "outputs": [],
   "source": [
    "energy_cleaned_df = pd.DataFrame({\n",
    "#     'year_state': year_state,\n",
    "    'year': year,\n",
    "    'state': state,\n",
    "    'total_energy': energy_consumption,\n",
    "    'gdp': gdp,\n",
    "    'biomass_consumption': biomass_consumption,\n",
    "    'coal_consumption': coal_consumption,\n",
    "    'electricity_consumption': elec_consumption,\n",
    "    'fossil_fuel_consumption': fossfuel_consumption,\n",
    "    'natural_gas_consumption': natgas_consumption\n",
    "})\n",
    "\n",
    "energy_cleaned_df"
   ]
  },
  {
   "cell_type": "code",
   "execution_count": null,
   "id": "7e1c0243",
   "metadata": {},
   "outputs": [],
   "source": [
    "#Scraping state coordinates\n",
    "url = 'https://inkplant.com/code/state-latitudes-longitudes'\n",
    "\n",
    "table_name = 'table table-hover' \n",
    "response = requests.get(url)\n",
    "\n",
    "soup = BeautifulSoup(response.text, 'html.parser')\n",
    "\n",
    "coordinates_table = soup.find('table', {'class':table_name})\n",
    "\n",
    "df = pd.read_html(str(coordinates_table))\n",
    "\n",
    "state_coordinates_df = df[0]"
   ]
  },
  {
   "cell_type": "code",
   "execution_count": null,
   "id": "87cbd41a",
   "metadata": {},
   "outputs": [],
   "source": [
    "# coordinates = []\n",
    "# for index, row in state_coordinates_df.iterrows():\n",
    "#     coordinate = []\n",
    "#     x = state_coordinates_df['Longitude'][index]\n",
    "#     y = state_coordinates_df['Latitude'][index]\n",
    "#     coordinate.append(x)\n",
    "#     coordinate.append(y)\n",
    "#     coordinates.append(coordinate)\n",
    "pd.to_numeric(state_coordinates_df['Latitude'])\n",
    "state_coordinates_df['Latitude'].dtype\n",
    "    "
   ]
  },
  {
   "cell_type": "code",
   "execution_count": null,
   "id": "56f35cab",
   "metadata": {},
   "outputs": [],
   "source": [
    "# state_coordinates_df['coordinates'] = coordinates\n",
    "# state_coordinates_df_cleaned = state_coordinates_df[['State', 'coordinates']]\n",
    "state_coordinates_df = state_coordinates_df.rename(columns = {'State': 'state', 'Latitude': 'latitude', 'Longitude': 'longitude'})\n",
    "# state_coordinates_df_cleaned\n",
    "state_coordinates_df.head()"
   ]
  },
  {
   "cell_type": "code",
   "execution_count": null,
   "id": "b5f61f2f",
   "metadata": {},
   "outputs": [],
   "source": [
    "final_df = pd.merge(energy_cleaned_df, state_coordinates_df, how = 'left')"
   ]
  },
  {
   "cell_type": "code",
   "execution_count": null,
   "id": "3960e0ac",
   "metadata": {},
   "outputs": [],
   "source": [
    "final_df"
   ]
  },
  {
   "cell_type": "code",
   "execution_count": null,
   "id": "f8f2db5f",
   "metadata": {},
   "outputs": [],
   "source": [
    "final_df.columns"
   ]
  },
  {
   "cell_type": "markdown",
   "id": "0437f9af",
   "metadata": {},
   "source": [
    "## Create database connection"
   ]
  },
  {
   "cell_type": "code",
   "execution_count": null,
   "id": "dd66d275",
   "metadata": {},
   "outputs": [],
   "source": [
    "protocol = 'postgresql'\n",
    "username = 'postgres'\n",
    "password = 'bootcamp'\n",
    "host = 'localhost'\n",
    "port = 5432\n",
    "database_name = 'energy_db'\n",
    "rds_connection_string = f'{protocol}://{username}:{password}@{host}:{port}/{database_name}'\n",
    "engine = create_engine(rds_connection_string)"
   ]
  },
  {
   "cell_type": "code",
   "execution_count": null,
   "id": "74340037",
   "metadata": {},
   "outputs": [],
   "source": [
    "# Confirm tables\n",
    "inspector = inspect(engine)\n",
    "inspector.get_table_names()"
   ]
  },
  {
   "cell_type": "markdown",
   "id": "1141a3c9",
   "metadata": {},
   "source": [
    "## Load DataFrames into database"
   ]
  },
  {
   "cell_type": "code",
   "execution_count": null,
   "id": "e587dec0",
   "metadata": {},
   "outputs": [],
   "source": [
    "final_df.to_sql(name='energy_consumption', con=engine, if_exists='append', index=False)"
   ]
  },
  {
   "cell_type": "code",
   "execution_count": null,
   "id": "fdbcd5ee",
   "metadata": {},
   "outputs": [],
   "source": [
    "# cleaned_min_wage_data_df.to_sql(name='minimum_wage', con=engine, if_exists='append', index=False)"
   ]
  },
  {
   "cell_type": "markdown",
   "id": "c6e051d8",
   "metadata": {},
   "source": [
    "## Confirm data has been added by querying the DB table"
   ]
  },
  {
   "cell_type": "code",
   "execution_count": null,
   "id": "7ae8619a",
   "metadata": {},
   "outputs": [],
   "source": [
    "pd.read_sql_query('select * from energy_consumption', con=engine).head()"
   ]
  },
  {
   "cell_type": "code",
   "execution_count": null,
   "id": "f3fa0e32",
   "metadata": {},
   "outputs": [],
   "source": [
    "# Export the DataFrames to CSV\n",
    "\n",
    "final_df.to_csv(\"energy_cleaned_df.csv\", index=True)"
   ]
  },
  {
   "cell_type": "code",
   "execution_count": null,
   "id": "566b601d",
   "metadata": {},
   "outputs": [],
   "source": []
  }
 ],
 "metadata": {
  "kernelspec": {
   "display_name": "Python 3 (ipykernel)",
   "language": "python",
   "name": "python3"
  },
  "language_info": {
   "codemirror_mode": {
    "name": "ipython",
    "version": 3
   },
   "file_extension": ".py",
   "mimetype": "text/x-python",
   "name": "python",
   "nbconvert_exporter": "python",
   "pygments_lexer": "ipython3",
   "version": "3.8.13"
  },
  "vscode": {
   "interpreter": {
    "hash": "f72e25b8f17a44795634cfdc583dc2a7c6f2dd87ef3021314bfa4599fe0adc2a"
   }
  }
 },
 "nbformat": 4,
 "nbformat_minor": 5
}
